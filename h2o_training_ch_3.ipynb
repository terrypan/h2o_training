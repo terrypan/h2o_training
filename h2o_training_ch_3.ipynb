{
 "cells": [
  {
   "cell_type": "markdown",
   "metadata": {},
   "source": [
    "## Chapter 3 - Linear Models and more"
   ]
  },
  {
   "cell_type": "code",
   "execution_count": null,
   "metadata": {},
   "outputs": [],
   "source": [
    "# import_file --> for local file system\n",
    "# upload_file  --> upload to h2o server\n",
    "# export_file(frame_name, destination)"
   ]
  },
  {
   "cell_type": "code",
   "execution_count": null,
   "metadata": {},
   "outputs": [],
   "source": [
    "import h2o\n",
    "h2o.init()"
   ]
  },
  {
   "cell_type": "markdown",
   "metadata": {},
   "source": [
    "## Exploring with GMLs"
   ]
  },
  {
   "cell_type": "code",
   "execution_count": null,
   "metadata": {},
   "outputs": [],
   "source": [
    "# http://data.princeton.edu/wws509/datasets/#smoking\n",
    "smoking = h2o.import_file(\"data/smoking.dat\", destination_frame = \"smoking\")"
   ]
  },
  {
   "cell_type": "code",
   "execution_count": null,
   "metadata": {},
   "outputs": [],
   "source": [
    "smoking.summary()"
   ]
  },
  {
   "cell_type": "code",
   "execution_count": null,
   "metadata": {},
   "outputs": [],
   "source": [
    "# Add extra column\n",
    "import math\n",
    "smoking[\"myval\"] = (smoking[\"dead\"] / smoking[\"pop\"]) * 1000\n",
    "smoking[\"myval\"] = smoking[\"myval\"].round()\n"
   ]
  },
  {
   "cell_type": "code",
   "execution_count": null,
   "metadata": {},
   "outputs": [],
   "source": [
    "smoking.summary()"
   ]
  },
  {
   "cell_type": "code",
   "execution_count": null,
   "metadata": {},
   "outputs": [],
   "source": [
    "smoking[:, \"pop\"].sum()"
   ]
  },
  {
   "cell_type": "code",
   "execution_count": null,
   "metadata": {},
   "outputs": [],
   "source": [
    "from h2o.estimators.glm import H2OGeneralizedLinearEstimator"
   ]
  },
  {
   "cell_type": "code",
   "execution_count": null,
   "metadata": {},
   "outputs": [],
   "source": [
    "x = [1,2]\n",
    "y = 5"
   ]
  },
  {
   "cell_type": "code",
   "execution_count": null,
   "metadata": {},
   "outputs": [],
   "source": [
    "m = H2OGeneralizedLinearEstimator(\n",
    "    family = \"poisson\",\n",
    "    model_id = \"smoking_p\"\n",
    "    # nfolds =12,\n",
    "    # fold_assignment = \"Modulo\"   \n",
    ")\n",
    "m.train(x,y,smoking)"
   ]
  },
  {
   "cell_type": "code",
   "execution_count": null,
   "metadata": {},
   "outputs": [],
   "source": [
    "m.model_performance()"
   ]
  },
  {
   "cell_type": "code",
   "execution_count": null,
   "metadata": {},
   "outputs": [],
   "source": [
    "m.coef()"
   ]
  },
  {
   "cell_type": "code",
   "execution_count": null,
   "metadata": {},
   "outputs": [],
   "source": [
    "m2 = H2OGeneralizedLinearEstimator(\n",
    "    family = \"poisson\",\n",
    "    model_id = \"smoking_p2\" \n",
    ")\n",
    "m2.train(\"smoke\",y,smoking)"
   ]
  },
  {
   "cell_type": "code",
   "execution_count": null,
   "metadata": {},
   "outputs": [],
   "source": [
    "m2.model_performance()"
   ]
  },
  {
   "cell_type": "code",
   "execution_count": null,
   "metadata": {},
   "outputs": [],
   "source": [
    "m2.coef()"
   ]
  },
  {
   "cell_type": "markdown",
   "metadata": {},
   "source": [
    "## Naive Bayes \n",
    "// (classification, not regression)"
   ]
  },
  {
   "cell_type": "code",
   "execution_count": null,
   "metadata": {},
   "outputs": [],
   "source": [
    "url = \"http://h2o-public-test-data.s3.amazonaws.com/smalldata/iris/iris_wheader.csv\"\n",
    "iris = h2o.import_file(url)"
   ]
  },
  {
   "cell_type": "code",
   "execution_count": null,
   "metadata": {},
   "outputs": [],
   "source": [
    "train, test = iris.split_frame([0.8])"
   ]
  },
  {
   "cell_type": "code",
   "execution_count": null,
   "metadata": {},
   "outputs": [],
   "source": [
    "train.summary()"
   ]
  },
  {
   "cell_type": "code",
   "execution_count": null,
   "metadata": {},
   "outputs": [],
   "source": [
    "train.nrows"
   ]
  },
  {
   "cell_type": "code",
   "execution_count": null,
   "metadata": {},
   "outputs": [],
   "source": [
    "test.nrows"
   ]
  },
  {
   "cell_type": "code",
   "execution_count": null,
   "metadata": {},
   "outputs": [],
   "source": [
    "from h2o.estimators.naive_bayes import H2ONaiveBayesEstimator"
   ]
  },
  {
   "cell_type": "code",
   "execution_count": null,
   "metadata": {},
   "outputs": [],
   "source": [
    "mNB = H2ONaiveBayesEstimator()\n",
    "mNB.train([\"sepal_len\", \"sepal_wid\", \"petal_len\", \"petal_wid\"], \"class\", train)"
   ]
  },
  {
   "cell_type": "code",
   "execution_count": null,
   "metadata": {},
   "outputs": [],
   "source": [
    "mNB"
   ]
  },
  {
   "cell_type": "code",
   "execution_count": null,
   "metadata": {},
   "outputs": [],
   "source": [
    "p = mNB.predict(test)"
   ]
  },
  {
   "cell_type": "code",
   "execution_count": null,
   "metadata": {},
   "outputs": [],
   "source": [
    "p"
   ]
  },
  {
   "cell_type": "code",
   "execution_count": null,
   "metadata": {},
   "outputs": [],
   "source": [
    "mNB.model_performance(test)"
   ]
  },
  {
   "cell_type": "code",
   "execution_count": null,
   "metadata": {},
   "outputs": [],
   "source": [
    "mNB_2 = H2ONaiveBayesEstimator(laplace = 2)\n",
    "mNB_2.train([\"sepal_len\", \"sepal_wid\", \"petal_len\", \"petal_wid\"], \"class\", train)"
   ]
  },
  {
   "cell_type": "code",
   "execution_count": null,
   "metadata": {},
   "outputs": [],
   "source": [
    "mNB_2.model_performance(test)"
   ]
  },
  {
   "cell_type": "markdown",
   "metadata": {},
   "source": [
    "## Data Manipulation"
   ]
  },
  {
   "cell_type": "markdown",
   "metadata": {},
   "source": [
    "## Grid Search"
   ]
  },
  {
   "cell_type": "code",
   "execution_count": null,
   "metadata": {},
   "outputs": [],
   "source": [
    "import h2o.grid"
   ]
  },
  {
   "cell_type": "code",
   "execution_count": null,
   "metadata": {},
   "outputs": [],
   "source": [
    "# http://data.h2o.ai/\n",
    "url = \"https://s3.amazonaws.com/h2o-training/sparkling-water/allyears2k_headers.csv.gz\"\n",
    "data = h2o.import_file(url)"
   ]
  },
  {
   "cell_type": "code",
   "execution_count": null,
   "metadata": {},
   "outputs": [],
   "source": [
    "data.columns"
   ]
  },
  {
   "cell_type": "code",
   "execution_count": null,
   "metadata": {},
   "outputs": [],
   "source": [
    "train, valid, test = data.split_frame([0.8, 0.1], seed = 69)"
   ]
  },
  {
   "cell_type": "code",
   "execution_count": null,
   "metadata": {},
   "outputs": [],
   "source": [
    "print(\"%d/%d/%d\" % (train.nrows, valid.nrows, test.nrows))"
   ]
  },
  {
   "cell_type": "code",
   "execution_count": null,
   "metadata": {},
   "outputs": [],
   "source": [
    "y = \"IsArrDelayed\"\n",
    "ignoreFields = [\n",
    "    \"ArrDelay\", \"DepDelay\",\n",
    "    \"CarrierDelay\", \"WeatherDelay\",\n",
    "    \"NASDelay\", \"SecurityDelay\",\n",
    "    \"LateAircraftDelay\", \n",
    "    \"IsDepDelayed\", \"IsArrDelayed\",\n",
    "    \"ActualElapsedTime\" # But CRSElapsedTime is fine\n",
    "]\n",
    "xAll = [i for i in train.names if i not in ignoreFields]\n",
    "xLikely = [\"Month\", \"DayOfWeek\", \"UniqueCarrier\", \n",
    "           \"Origin\", \"Dest\", \"Distance\"\n",
    "           \"Cancelled\", \"Diverted\"\n",
    "          ]"
   ]
  },
  {
   "cell_type": "code",
   "execution_count": null,
   "metadata": {},
   "outputs": [],
   "source": [
    "from h2o.estimators.glm import H2OGeneralizedLinearEstimator"
   ]
  },
  {
   "cell_type": "code",
   "execution_count": null,
   "metadata": {},
   "outputs": [],
   "source": [
    "m_def = H2OGeneralizedLinearEstimator(\n",
    "        family = \"binomial\",\n",
    ")\n",
    "m_def.train(xAll, y, train, validation_frame = valid)"
   ]
  },
  {
   "cell_type": "code",
   "execution_count": null,
   "metadata": {},
   "outputs": [],
   "source": [
    "m_def.logloss(valid = True) # 0.623"
   ]
  },
  {
   "cell_type": "code",
   "execution_count": null,
   "metadata": {},
   "outputs": [],
   "source": [
    "g = h2o.grid.H2OGridSearch(\n",
    "    H2OGeneralizedLinearEstimator(\n",
    "        family = \"binomial\",\n",
    "        lambda_search = True\n",
    "    ),\n",
    "    hyper_params = {\n",
    "        \"alpha\":[x * 0.01 for x in range(0,100)],\n",
    "    },\n",
    "    search_criteria = {\n",
    "        \"strategy\": \"RandomDiscrete\",\n",
    "        \"max_models\":8,\n",
    "        \"max_runtime_secs\":30,\n",
    "    }\n",
    ")\n",
    "g.train(xAll, y, train, validation_frame = valid)"
   ]
  },
  {
   "cell_type": "code",
   "execution_count": null,
   "metadata": {},
   "outputs": [],
   "source": [
    "g"
   ]
  },
  {
   "cell_type": "code",
   "execution_count": null,
   "metadata": {},
   "outputs": [],
   "source": [
    "g2 = h2o.grid.H2OGridSearch(\n",
    "    H2OGeneralizedLinearEstimator(\n",
    "        family = \"binomial\",\n",
    "        lambda_search = True\n",
    "    ),\n",
    "    hyper_params = {\n",
    "        \"alpha\":[0, 0.2, 0.4, 0.5, 0.6, 0.8, 0.99],\n",
    "    },\n",
    "    search_criteria = {\n",
    "        \"strategy\": \"Cartesian\"\n",
    "    }\n",
    ")\n",
    "g2.train(xAll, y, train, validation_frame = valid)"
   ]
  },
  {
   "cell_type": "code",
   "execution_count": null,
   "metadata": {},
   "outputs": [],
   "source": [
    "g2"
   ]
  },
  {
   "cell_type": "code",
   "execution_count": null,
   "metadata": {},
   "outputs": [],
   "source": []
  }
 ],
 "metadata": {
  "kernelspec": {
   "display_name": "Python 3",
   "language": "python",
   "name": "python3"
  },
  "language_info": {
   "codemirror_mode": {
    "name": "ipython",
    "version": 3
   },
   "file_extension": ".py",
   "mimetype": "text/x-python",
   "name": "python",
   "nbconvert_exporter": "python",
   "pygments_lexer": "ipython3",
   "version": "3.7.0"
  }
 },
 "nbformat": 4,
 "nbformat_minor": 2
}
